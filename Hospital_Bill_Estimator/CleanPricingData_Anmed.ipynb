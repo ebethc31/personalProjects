{
 "cells": [
  {
   "cell_type": "code",
   "execution_count": 1,
   "id": "c3497602",
   "metadata": {},
   "outputs": [],
   "source": [
    "import os\n",
    "import pandas as pd"
   ]
  },
  {
   "cell_type": "code",
   "execution_count": 2,
   "id": "e7c50429",
   "metadata": {},
   "outputs": [],
   "source": [
    "directory = 'Anmed_Hospital_Data'\n",
    "ext = ('.csv')"
   ]
  },
  {
   "cell_type": "code",
   "execution_count": 4,
   "id": "abf3936b",
   "metadata": {},
   "outputs": [],
   "source": [
    "for filename in os.listdir(directory):\n",
    "    f = os.path.join(directory, filename)\n",
    "    \n",
    "    if f.endswith(ext):\n",
    "        head_tail = os.path.split(f)\n",
    "        head_tail1 = 'Output'\n",
    "        k = head_tail[1]\n",
    "        r = k.split(\".\")[0]\n",
    "        \n",
    "        p = head_tail1 + \"/\" + r + \" - Output.csv\"\n",
    "        \n",
    "        # Temporary fix: the types need to be specified in the future to make this more memory efficent\n",
    "        # This is only a bandaid!\n",
    "        myData = pd.read_csv(f, dtype = object)\n",
    "        \n",
    "        # Clean the junk in the first few rows\n",
    "        myData = pd.read_csv(f, dtype=object, skiprows=2)\n",
    "        \n",
    "        # Only take what is needed\n",
    "        new = myData[[\"Code\",\"CPT/HCPCS\",\"Description\",\"Revenue Code\",\"Unit Price\",\"Cash Price\",\"Min Allowable\",\"Max Allowable\"]]\n",
    "        new.to_csv(p ,index = False)\n",
    "        \n",
    "        #something like newhosp[filename]"
   ]
  },
  {
   "cell_type": "code",
   "execution_count": null,
   "id": "84c22be1",
   "metadata": {},
   "outputs": [],
   "source": []
  }
 ],
 "metadata": {
  "kernelspec": {
   "display_name": "Python 3 (ipykernel)",
   "language": "python",
   "name": "python3"
  },
  "language_info": {
   "codemirror_mode": {
    "name": "ipython",
    "version": 3
   },
   "file_extension": ".py",
   "mimetype": "text/x-python",
   "name": "python",
   "nbconvert_exporter": "python",
   "pygments_lexer": "ipython3",
   "version": "3.11.5"
  }
 },
 "nbformat": 4,
 "nbformat_minor": 5
}
