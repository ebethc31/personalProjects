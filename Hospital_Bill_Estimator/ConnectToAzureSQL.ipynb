{
 "cells": [
  {
   "cell_type": "code",
   "execution_count": 1,
   "id": "934377bd",
   "metadata": {},
   "outputs": [],
   "source": [
    "import pyodbc"
   ]
  },
  {
   "cell_type": "code",
   "execution_count": 2,
   "id": "6e6ec4f6",
   "metadata": {},
   "outputs": [],
   "source": [
    "connect_string = (\n",
    "    \"Driver={ODBC Driver 18 for SQL Server};\"\n",
    "    \"Server={hospitalprices.database.windows.net};\"\n",
    "    \"Database=HospitalPrices;\"\n",
    "    \"UID=ebethc31;\"\n",
    "    \"PWD=Clemsonbb23??;\"\n",
    "    )"
   ]
  },
  {
   "cell_type": "code",
   "execution_count": 3,
   "id": "749cf547",
   "metadata": {},
   "outputs": [
    {
     "ename": "InterfaceError",
     "evalue": "('IM002', '[IM002] [Microsoft][ODBC Driver Manager] Data source name not found and no default driver specified (0) (SQLDriverConnect); [IM002] [Microsoft][ODBC Driver Manager] Invalid connection string attribute (0)')",
     "output_type": "error",
     "traceback": [
      "\u001b[1;31m---------------------------------------------------------------------------\u001b[0m",
      "\u001b[1;31mInterfaceError\u001b[0m                            Traceback (most recent call last)",
      "Cell \u001b[1;32mIn[3], line 2\u001b[0m\n\u001b[0;32m      1\u001b[0m connect_string \u001b[38;5;241m=\u001b[39m \u001b[38;5;124m'\u001b[39m\u001b[38;5;124myour_connection_string_here\u001b[39m\u001b[38;5;124m'\u001b[39m  \u001b[38;5;66;03m# Update this with your actual connection string\u001b[39;00m\n\u001b[1;32m----> 2\u001b[0m connect \u001b[38;5;241m=\u001b[39m pyodbc\u001b[38;5;241m.\u001b[39mconnect(connect_string)\n\u001b[0;32m      3\u001b[0m cursor \u001b[38;5;241m=\u001b[39m connect\u001b[38;5;241m.\u001b[39mcursor()\n\u001b[0;32m      5\u001b[0m query \u001b[38;5;241m=\u001b[39m \u001b[38;5;124m\"\"\"\u001b[39m\n\u001b[0;32m      6\u001b[0m \u001b[38;5;124mSELECT \u001b[39m\u001b[38;5;124m'\u001b[39m\u001b[38;5;124mAnmed\u001b[39m\u001b[38;5;124m'\u001b[39m\u001b[38;5;124m AS [Source], [Description], [Cash_Price]\u001b[39m\n\u001b[0;32m      7\u001b[0m \u001b[38;5;124mFROM [dbo].[Anmedcannonstandardcharges - Output]\u001b[39m\n\u001b[1;32m   (...)\u001b[0m\n\u001b[0;32m     12\u001b[0m \u001b[38;5;124mWHERE [Description] IN (\u001b[39m\u001b[38;5;124m'\u001b[39m\u001b[38;5;124mHC CHOLESTEROL SERUM OR WHOLE BLOOD TOTAL\u001b[39m\u001b[38;5;124m'\u001b[39m\u001b[38;5;124m,\u001b[39m\u001b[38;5;124m'\u001b[39m\u001b[38;5;124mCOMPREHEN METABOLIC PANEL\u001b[39m\u001b[38;5;124m'\u001b[39m\u001b[38;5;124m,\u001b[39m\u001b[38;5;124m'\u001b[39m\u001b[38;5;124mHC LIPID PANEL\u001b[39m\u001b[38;5;124m'\u001b[39m\u001b[38;5;124m,\u001b[39m\u001b[38;5;124m'\u001b[39m\u001b[38;5;124mHC BLOOD COUNT CBC AUTOMATED W/AUTOMATED DIFF\u001b[39m\u001b[38;5;124m'\u001b[39m\u001b[38;5;124m)\u001b[39m\n\u001b[0;32m     13\u001b[0m \u001b[38;5;124m\"\"\"\u001b[39m\n",
      "\u001b[1;31mInterfaceError\u001b[0m: ('IM002', '[IM002] [Microsoft][ODBC Driver Manager] Data source name not found and no default driver specified (0) (SQLDriverConnect); [IM002] [Microsoft][ODBC Driver Manager] Invalid connection string attribute (0)')"
     ]
    }
   ],
   "source": [
    "connect_string = 'your_connection_string_here'  # Update this with your actual connection string\n",
    "connect = pyodbc.connect(connect_string)\n",
    "cursor = connect.cursor()\n",
    "\n",
    "query = \"\"\"\n",
    "SELECT 'Anmed' AS [Source], [Description], [Cash_Price]\n",
    "FROM [dbo].[Anmedcannonstandardcharges - Output]\n",
    "WHERE [Description] IN ('HC CHOLESTEROL SERUM/WHOLE BLOOD TOTAL','HC COMPREHENSIVE METABOLIC PANEL', 'HC LIPID PANEL', 'HC BLOOD COUNT COMPLETE AUTOMATED')\n",
    "UNION \n",
    "SELECT 'Prisma' AS [Source], [Description], [Discounted_Cash_Price] \n",
    "FROM [dbo].[PrismaHealth_TuomeyHospital_standardcharges - Output]\n",
    "WHERE [Description] IN ('HC CHOLESTEROL SERUM OR WHOLE BLOOD TOTAL','COMPREHEN METABOLIC PANEL','HC LIPID PANEL','HC BLOOD COUNT CBC AUTOMATED W/AUTOMATED DIFF')\n",
    "\"\"\"\n",
    "\n",
    "cursor.execute(query)\n",
    "print(cursor.fetchall())\n",
    "connect.close()"
   ]
  },
  {
   "cell_type": "code",
   "execution_count": null,
   "id": "771ebf61",
   "metadata": {},
   "outputs": [],
   "source": []
  }
 ],
 "metadata": {
  "kernelspec": {
   "display_name": "Python 3 (ipykernel)",
   "language": "python",
   "name": "python3"
  },
  "language_info": {
   "codemirror_mode": {
    "name": "ipython",
    "version": 3
   },
   "file_extension": ".py",
   "mimetype": "text/x-python",
   "name": "python",
   "nbconvert_exporter": "python",
   "pygments_lexer": "ipython3",
   "version": "3.11.5"
  }
 },
 "nbformat": 4,
 "nbformat_minor": 5
}
