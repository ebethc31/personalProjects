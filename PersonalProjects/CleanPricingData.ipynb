{
 "cells": [
  {
   "cell_type": "code",
   "execution_count": 1,
   "id": "a6b6fdb4",
   "metadata": {},
   "outputs": [],
   "source": [
    "%matplotlib inline\n",
    "import os\n",
    "import pandas as pd"
   ]
  },
  {
   "cell_type": "code",
   "execution_count": 2,
   "id": "caf7be5a",
   "metadata": {},
   "outputs": [],
   "source": [
    "directory = 'Hospital_Data'\n",
    "ext = ('.csv')"
   ]
  },
  {
   "cell_type": "code",
   "execution_count": 3,
   "id": "959d6206",
   "metadata": {},
   "outputs": [],
   "source": [
    "for filename in os.listdir(directory):\n",
    "    f = os.path.join(directory, filename)\n",
    "    \n",
    "    if f.endswith(ext):\n",
    "        head_tail = os.path.split(f)\n",
    "        head_tail1 = 'Output'\n",
    "        k = head_tail[1]\n",
    "        r = k.split(\".\")[0]\n",
    "        \n",
    "        p = head_tail1 + \"/\" + r + \" - Output.csv\"\n",
    "        \n",
    "        myData = pd.read_csv(f, dtype = object)\n",
    "        \n",
    "        myData = pd.read_csv(f, dtype=object, skiprows=4)\n",
    "        # De-Identified Minimum, and De-Identified Maximum.\n",
    "        new = myData[[\"Charge Code/Package\",\"Gross Charges\",\"Charge Description\",\"Patient Type\",\"Rev Code\",\"Discounted Cash Price\",\"De-Identified Minimum\",\"De-Identified Maximum\"]]\n",
    "        new.to_csv(p ,index = False)"
   ]
  }
 ],
 "metadata": {
  "kernelspec": {
   "display_name": "Python 3 (ipykernel)",
   "language": "python",
   "name": "python3"
  },
  "language_info": {
   "codemirror_mode": {
    "name": "ipython",
    "version": 3
   },
   "file_extension": ".py",
   "mimetype": "text/x-python",
   "name": "python",
   "nbconvert_exporter": "python",
   "pygments_lexer": "ipython3",
   "version": "3.11.5"
  }
 },
 "nbformat": 4,
 "nbformat_minor": 5
}
